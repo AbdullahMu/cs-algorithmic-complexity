{
 "cells": [
  {
   "cell_type": "markdown",
   "metadata": {},
   "source": [
    "# Big-O Notation Exercises\n",
    "\n",
    "What is the worst-case time complexity for the following algorithms?\n"
   ]
  },
  {
   "cell_type": "markdown",
   "metadata": {},
   "source": [
    "#### #1\n",
    "\n",
    "```js\n",
    "function occurrences(word, phrase) {\n",
    "  let result = 0\n",
    "  let words  = phrase.split(' ')\n",
    "  words.forEach(word => {\n",
    "    if (word.toLowerCase() === word.toLowerCase()) result += 1\n",
    "  })\n",
    "  return result\n",
    "}\n",
    "```\n"
   ]
  },
  {
   "cell_type": "code",
   "execution_count": null,
   "metadata": {},
   "outputs": [],
   "source": []
  },
  {
   "cell_type": "markdown",
   "metadata": {},
   "source": [
    "#### #2\n",
    "\n",
    "```js\n",
    "// from http://blog.benoitvallon.com/sorting-algorithms-in-javascript/the-bubble-sort-algorithm/\n",
    "function swap(array, i, j) {\n",
    "  var temp = array[i];\n",
    "  array[i] = array[j];\n",
    "  array[j] = temp;\n",
    "}\n",
    "\n",
    "function bubbleSortBasic(array) {\n",
    "  for(var i = 0; i < array.length; i++) {\n",
    "    for(var j = 1; j < array.length; j++) {\n",
    "      if(array[j - 1] > array[j]) {\n",
    "        swap(array, j - 1, j);\n",
    "      }\n",
    "    }\n",
    "  }\n",
    "  return array;\n",
    "}\n",
    "```\n"
   ]
  },
  {
   "cell_type": "code",
   "execution_count": null,
   "metadata": {},
   "outputs": [],
   "source": []
  },
  {
   "cell_type": "markdown",
   "metadata": {},
   "source": [
    "#### #3\n",
    "\n",
    "```js\n",
    "function factorial (n) {\n",
    "  if (n === 0) {\n",
    "    return 1\n",
    "  } else { \n",
    "    return n * factorial(n - 1)\n",
    "  }\n",
    "}\n",
    "```\n",
    "\n",
    "\n"
   ]
  },
  {
   "cell_type": "code",
   "execution_count": null,
   "metadata": {},
   "outputs": [],
   "source": []
  },
  {
   "cell_type": "markdown",
   "metadata": {},
   "source": [
    "#### #4\n",
    "\n",
    "```js\n",
    "function isBobFirstIn (people) {\n",
    " return people[0] === 'Bob'\n",
    "}\n",
    "```\n",
    "\n"
   ]
  },
  {
   "cell_type": "code",
   "execution_count": null,
   "metadata": {},
   "outputs": [],
   "source": []
  },
  {
   "cell_type": "markdown",
   "metadata": {},
   "source": [
    "\n",
    "#### #5\n",
    "\n",
    "```js\n",
    "function palindrome (input) {\n",
    "  let output = \"\"\n",
    "  let stack = input.split('').reverse()\n",
    "  stack.forEach(character => {\n",
    "    output += character\n",
    "  })\n",
    "  return input === output\n",
    "}\n",
    "```\n"
   ]
  },
  {
   "cell_type": "code",
   "execution_count": null,
   "metadata": {},
   "outputs": [],
   "source": []
  },
  {
   "cell_type": "markdown",
   "metadata": {},
   "source": [
    "#### #6\n",
    "\n",
    "```js\n",
    "function sumDivisors (number) {\n",
    "  let result = 0\n",
    "  let counter = 1\n",
    "  while (counter < number) {\n",
    "    if (number % counter === 0) {\n",
    "      result += counter\n",
    "    }\n",
    "    counter += 1\n",
    "  }\n",
    "  return result\n",
    "}\n",
    "```"
   ]
  },
  {
   "cell_type": "code",
   "execution_count": null,
   "metadata": {},
   "outputs": [],
   "source": []
  },
  {
   "cell_type": "markdown",
   "metadata": {},
   "source": [
    "\n",
    "#### #7\n",
    "\n",
    "```js\n",
    "function printAllNumbersThenAllPairSums(numbers) {\n",
    "  numbers.forEach(number => console.log(number))\n",
    "  \n",
    "  numbers.forEach(number => {\n",
    "    numbers.slice(1, numbers.length-1).forEach(innerNumber => {\n",
    "      console.log(number, innerNumber)\n",
    "    })\n",
    "  })\n",
    "}\n",
    "```\n"
   ]
  },
  {
   "cell_type": "code",
   "execution_count": null,
   "metadata": {},
   "outputs": [],
   "source": []
  },
  {
   "cell_type": "markdown",
   "metadata": {},
   "source": [
    "#### #8\n",
    "\n",
    "```js\n",
    "// from https://stackoverflow.com/questions/40200089/is-a-number-prime\n",
    "function isPrime (number) {\n",
    "  for (let i = 2; i < number; i++)\n",
    "    if(num % i === 0) return false;\n",
    "  return number !== 1;\n",
    "}\n",
    "```"
   ]
  },
  {
   "cell_type": "code",
   "execution_count": null,
   "metadata": {},
   "outputs": [],
   "source": []
  },
  {
   "cell_type": "markdown",
   "metadata": {},
   "source": [
    "#### #9\n",
    "\n",
    "```js\n",
    "function guessNumber (max, correct, counter=0)\n",
    "  if (counter === correct) {\n",
    "    return `I finally found the number after ${counter} tries!`\n",
    "  } else {\n",
    "    guessNumber(max, correct, counter+1)\n",
    "  }\n",
    "}\n",
    "```"
   ]
  },
  {
   "cell_type": "code",
   "execution_count": null,
   "metadata": {},
   "outputs": [],
   "source": []
  },
  {
   "cell_type": "markdown",
   "metadata": {},
   "source": [
    "#### #10\n",
    "\n",
    "```js\n",
    "function guessNumber (max) {\n",
    "  let min = 1\n",
    "  let tries = 0\n",
    "  let guess = 0\n",
    "\n",
    "  let answer = Math.floor(Math.random(max) + 1)\n",
    "\n",
    "  while (guess !== answer) {\n",
    "    guess = Math.floor((max + min) / 2)\n",
    "    if (guess === answer) return tries\n",
    "    if (guess < answer) min = guess + 1\n",
    "    if (guess > answer) max = guess - 1\n",
    "    tries += 1\n",
    "  }\n",
    "\n",
    "  return null\n",
    "}\n",
    "```"
   ]
  },
  {
   "cell_type": "code",
   "execution_count": null,
   "metadata": {},
   "outputs": [],
   "source": []
  },
  {
   "cell_type": "markdown",
   "metadata": {},
   "source": [
    "\n",
    "\n",
    "#### Sources \n",
    "\n",
    "- [1](http://www.daveperrett.com/articles/2010/12/07/comp-sci-101-big-o-notation/)\n",
    "- [2](https://www.interviewcake.com/article/java/big-o-notation-time-and-space-complexity)\n",
    "- [3](https://juloc88.github.io/blog/2014/12/18/binary-search-algorithm-in-ruby/)"
   ]
  },
  {
   "cell_type": "code",
   "execution_count": null,
   "metadata": {},
   "outputs": [],
   "source": []
  }
 ],
 "metadata": {
  "kernelspec": {
   "display_name": "Python 3",
   "language": "python",
   "name": "python3"
  },
  "language_info": {
   "codemirror_mode": {
    "name": "ipython",
    "version": 3
   },
   "file_extension": ".py",
   "mimetype": "text/x-python",
   "name": "python",
   "nbconvert_exporter": "python",
   "pygments_lexer": "ipython3",
   "version": "3.6.5"
  }
 },
 "nbformat": 4,
 "nbformat_minor": 2
}
